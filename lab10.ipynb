{
 "cells": [
  {
   "cell_type": "code",
   "execution_count": null,
   "metadata": {},
   "outputs": [],
   "source": [
    "%load_ext autoreload\n",
    "%autoreload 2\n",
    "\n",
    "import traceback\n",
    "from notebook_utils import *\n",
    "import asyncio\n",
    "\n",
    "# Setup Logger\n",
    "LOG = get_logger('demo_notebook.log')\n",
    "\n",
    "# Init GUI and Commander\n",
    "gui = GET_GUI()\n",
    "cmdr = gui.launcher.commander"
   ]
  },
  {
   "cell_type": "markdown",
   "metadata": {},
   "source": [
    "# Start/Stop the Simulator and Plotter"
   ]
  },
  {
   "cell_type": "markdown",
   "metadata": {},
   "source": [
    "### OPTION 1: GUI\n",
    "- You can use a GUI to start, stop and track the running status of the simulator and plotter.\n",
    "- Run the below cell **only once** to render the GUI. You can then interact with the GUI using your mouse.\n",
    "- The GUI will not respond when the notebook's kernel is busy, just like any other cell."
   ]
  },
  {
   "cell_type": "code",
   "execution_count": null,
   "metadata": {},
   "outputs": [],
   "source": [
    "gui.show()"
   ]
  },
  {
   "cell_type": "markdown",
   "metadata": {},
   "source": [
    "### OPTION 2: Programmatically\n",
    "You can also use functions to do the same."
   ]
  },
  {
   "cell_type": "code",
   "execution_count": null,
   "metadata": {},
   "outputs": [],
   "source": [
    "# Start the simulator\n",
    "START_SIM()\n",
    "\n",
    "# Start the plotter\n",
    "START_PLOTTER()"
   ]
  },
  {
   "cell_type": "code",
   "execution_count": null,
   "metadata": {},
   "outputs": [],
   "source": [
    "# Start the simulator\n",
    "STOP_SIM()\n",
    "\n",
    "# Start the plotter\n",
    "STOP_PLOTTER()"
   ]
  },
  {
   "cell_type": "code",
   "execution_count": null,
   "metadata": {},
   "outputs": [],
   "source": [
    "# Reset the simulator\n",
    "RESET_SIM()\n",
    "\n",
    "# Start the plotter\n",
    "RESET_PLOTTER()"
   ]
  },
  {
   "cell_type": "markdown",
   "metadata": {},
   "source": [
    "You can also quit each process by closing their respective windows.\n",
    "\n",
    "### Make sure there is only one running instance of the simulator and plotter to prevent any confusion."
   ]
  },
  {
   "cell_type": "markdown",
   "metadata": {},
   "source": [
    "<hr>\n",
    "\n",
    "# Commander\n",
    "The **Commander** class (defined in *commander.py*) allows you to interact with the simulator and the plotter. <br>\n",
    "__NOTE__: The units of measurement are meters and radians.\n",
    "\n",
    "<table align=\"left\">\n",
    "    <tr>\n",
    "        <th style=\"text-align: left; font-size: medium\">Member Functions</th>\n",
    "        <th style=\"text-align: left; font-size: medium\">Description</th style=\"text-align: left\">\n",
    "    </tr>\n",
    "    <tr>\n",
    "        <th style=\"text-align: left\"><span style=\"font-family:monospace\">Utility Functions</span></th>\n",
    "    </tr>\n",
    "    <tr>\n",
    "        <th style=\"text-align: left\"><span style=\"color:rgb(201,152,4);font-family:monospace\">sim_is_running()</span></th>\n",
    "        <th style=\"text-align: left\"><span style=\"font-weight: normal\">Get the run status of the simulator.</span></th>\n",
    "    </tr>\n",
    "    <tr>\n",
    "        <th style=\"text-align: left\"><span style=\"color:rgb(201,152,4);font-family:monospace\">plotter_is_running()</span></th>\n",
    "        <th style=\"text-align: left\"><span style=\"font-weight: normal\">Get the run status of the plotter.</span></th>\n",
    "    </tr>\n",
    "    <tr>\n",
    "        <th style=\"text-align: left\"><span style=\"color:rgb(201,152,4);font-family:monospace\">is_valid_sim_data(pose)</span></th>\n",
    "        <th style=\"text-align: left\"><span style=\"font-weight: normal\">Check if the pose (Odometry or Ground Truth pose) data from the simulator is valid.</span></th>\n",
    "    </tr>\n",
    "    <tr>\n",
    "        <th style=\"text-align: left\"><span style=\"font-family:monospace\">Plotter Functions</span></th>\n",
    "    </tr>\n",
    "    <tr>\n",
    "        <th style=\"text-align: left\"><span style=\"color:rgb(201,152,4);font-family:monospace\">plot_odom(x,y)</span></th>\n",
    "        <th style=\"text-align: left\"><span style=\"font-weight: normal\">Plot a point (x,y) in the plotter in red. Units are (meters, meters).</span></th style=\"text-align: left\">\n",
    "    </tr>\n",
    "    <tr>\n",
    "        <th style=\"text-align: left\"><span style=\"color:rgb(201,152,4);font-family:monospace\">plot_gt(x,y)</span></th>\n",
    "        <th style=\"text-align: left\"><span style=\"font-weight: normal\">Plot a point (x,y) in the plotter in green. Units are (meters, meters).</span></th>\n",
    "    </tr>\n",
    "    <tr>\n",
    "        <th style=\"text-align: left\"><span style=\"color:rgb(201,152,4);font-family:monospace\">plot_bel(x,y)</span></th>\n",
    "        <th style=\"text-align: left\"><span style=\"font-weight: normal\">Plot a point (x,y) in the plotter in blue. Units are (meters, meters).</span></th>\n",
    "    </tr>\n",
    "    <tr>\n",
    "        <th style=\"text-align: left\"><span style=\"color:rgb(201,152,4);font-family:monospace\">plot_map()</span></th>\n",
    "        <th style=\"text-align: left\"><span style=\"font-weight: normal\">Plot the map based on the map lines in <em>world.yaml</em>.</span></th>\n",
    "    </tr>\n",
    "    <tr>\n",
    "        <th style=\"text-align: left\"><span style=\"color:rgb(201,152,4);font-family:monospace\">reset_plotter()</span></th>\n",
    "        <th style=\"text-align: left\"><span style=\"font-weight: normal\">Reset the plots in the plotter.</span></th>\n",
    "    </tr>\n",
    "    <tr>\n",
    "        <th style=\"text-align: left\"><span style=\"font-family:monospace\">Simulator Functions</span></th>\n",
    "    </tr>\n",
    "    <tr>\n",
    "        <th style=\"text-align: left\"><span style=\"color:rgb(201,152,4);font-family:monospace\">set_vel(linear_vel, angular_vel)</span></th>\n",
    "        <th style=\"text-align: left\"><span style=\"font-weight: normal\">Set the linear velocity (m/s) and angular velocity (rad/s) of the virtual robot.</span></th style=\"text-align: left\">\n",
    "    </tr>\n",
    "    <tr>\n",
    "        <th style=\"text-align: left\"><span style=\"color:rgb(201,152,4);font-family:monospace\">get_pose()</span></th>\n",
    "        <th style=\"text-align: left\"><span style=\"font-weight: normal\">Get the odometry and ground truth poses of the virtual robot as two numpy arrays. The units of each pose are (meters, meters, radians)</span></th>\n",
    "    </tr>\n",
    "    <tr>\n",
    "        <th style=\"text-align: left\"><span style=\"color:rgb(201,152,4);font-family:monospace\">get_sensor()</span></th>\n",
    "        <th style=\"text-align: left\"><span style=\"font-weight: normal\">Get the ToF sensor data (in meters) of the virtual robot as a numpy column array.</span></th>\n",
    "    </tr>\n",
    "    <tr>\n",
    "        <th style=\"text-align: left\"><span style=\"color:rgb(201,152,4);font-family:monospace\">reset_sim()</span></th>\n",
    "        <th style=\"text-align: left\"><span style=\"font-weight: normal\">Reset the virtual robot to its initial pose.</span></th>\n",
    "    </tr>    \n",
    "   \n",
    "</table>\n"
   ]
  },
  {
   "cell_type": "code",
   "execution_count": null,
   "metadata": {},
   "outputs": [],
   "source": [
    "# Reset Plotter and Simulator\n",
    "cmdr.reset_plotter()\n",
    "cmdr.reset_sim()\n",
    "\n",
    "# Loop for pose\n",
    "while cmdr.sim_is_running() and cmdr.plotter_is_running():\n",
    "    pose, gt_pose = cmdr.get_pose()\n",
    "\n",
    "    cmdr.plot_odom(pose[0], pose[1])\n",
    "    cmdr.plot_gt(gt_pose[0], gt_pose[1])"
   ]
  },
  {
   "cell_type": "code",
   "execution_count": null,
   "metadata": {},
   "outputs": [],
   "source": [
    "# Loop for sensor\n",
    "while cmdr.sim_is_running() and cmdr.plotter_is_running():\n",
    "    sensor_values = cmdr.get_sensor()\n",
    "    print(sensor_values)\n",
    "    await asyncio.sleep(1)"
   ]
  }
 ],
 "metadata": {
  "kernelspec": {
   "display_name": "Python 3",
   "language": "python",
   "name": "python3"
  },
  "language_info": {
   "codemirror_mode": {
    "name": "ipython",
    "version": 3
   },
   "file_extension": ".py",
   "mimetype": "text/x-python",
   "name": "python",
   "nbconvert_exporter": "python",
   "pygments_lexer": "ipython3",
   "version": "3.6.3"
  }
 },
 "nbformat": 4,
 "nbformat_minor": 4
}
